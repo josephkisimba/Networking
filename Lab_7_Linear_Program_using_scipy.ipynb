{
  "nbformat": 4,
  "nbformat_minor": 0,
  "metadata": {
    "colab": {
      "provenance": [],
      "authorship_tag": "ABX9TyNsAyVOnJ4pTgQqCZB7FFYx",
      "include_colab_link": true
    },
    "kernelspec": {
      "name": "python3",
      "display_name": "Python 3"
    },
    "language_info": {
      "name": "python"
    }
  },
  "cells": [
    {
      "cell_type": "markdown",
      "metadata": {
        "id": "view-in-github",
        "colab_type": "text"
      },
      "source": [
        "<a href=\"https://colab.research.google.com/github/josephkisimba/Networking/blob/main/Lab_7_Linear_Program_using_scipy.ipynb\" target=\"_parent\"><img src=\"https://colab.research.google.com/assets/colab-badge.svg\" alt=\"Open In Colab\"/></a>"
      ]
    },
    {
      "cell_type": "code",
      "execution_count": 1,
      "metadata": {
        "id": "AX-ciZWietzJ"
      },
      "outputs": [],
      "source": [
        "from scipy.optimize import linprog\n"
      ]
    },
    {
      "cell_type": "code",
      "source": [
        "obj = [-1, -2]\n",
        "#      ─┬  ─┬\n",
        "#       │   └┤ Coefficient for y\n",
        "#       └────┤ Coefficient for x"
      ],
      "metadata": {
        "id": "J8gwdA-bgkC_"
      },
      "execution_count": 2,
      "outputs": []
    },
    {
      "cell_type": "code",
      "source": [
        "lhs_ineq = [[ 2,  1],  # Red constraint left side\n",
        "             [-4,  5],  # Blue constraint left side\n",
        "             [ 1, -2]]  # Yellow constraint left side\n",
        "\n",
        "rhs_ineq = [20,  # Red constraint right side\n",
        "             10,  # Blue constraint right side\n",
        "              2]  # Yellow constraint right side\n",
        "\n",
        "lhs_eq = [[-1, 5]]  # Green constraint left side\n",
        "rhs_eq = [15]       # Green constraint right side"
      ],
      "metadata": {
        "id": "xSO_e6QSgpqL"
      },
      "execution_count": 3,
      "outputs": []
    },
    {
      "cell_type": "code",
      "source": [
        "bnd = [(0, float(\"inf\")),  # Bounds of x\n",
        "       (0, float(\"inf\"))]  # Bounds of y"
      ],
      "metadata": {
        "id": "bma9y03Cgsgn"
      },
      "execution_count": 4,
      "outputs": []
    },
    {
      "cell_type": "code",
      "source": [
        "opt = linprog(c=obj, A_ub=lhs_ineq, b_ub=rhs_ineq,\n",
        "               A_eq=lhs_eq, b_eq=rhs_eq, bounds=bnd,\n",
        "               method=\"revised simplex\")"
      ],
      "metadata": {
        "id": "DmEEVxTuhAH8"
      },
      "execution_count": null,
      "outputs": []
    },
    {
      "cell_type": "code",
      "source": [
        "opt"
      ],
      "metadata": {
        "colab": {
          "base_uri": "https://localhost:8080/",
          "height": 0
        },
        "id": "4cdFHjDwhLr8",
        "outputId": "3119d000-609c-412f-cb13-905552220fb0"
      },
      "execution_count": 6,
      "outputs": [
        {
          "output_type": "execute_result",
          "data": {
            "text/plain": [
              " message: Optimization terminated successfully.\n",
              " success: True\n",
              "  status: 0\n",
              "     fun: -16.818181818181817\n",
              "       x: [ 7.727e+00  4.545e+00]\n",
              "     nit: 3"
            ]
          },
          "metadata": {},
          "execution_count": 6
        }
      ]
    }
  ]
}