{
  "nbformat": 4,
  "nbformat_minor": 0,
  "metadata": {
    "colab": {
      "provenance": [],
      "authorship_tag": "ABX9TyOHs7p5xpyjsVMSTZIw/e76",
      "include_colab_link": true
    },
    "kernelspec": {
      "name": "python3",
      "display_name": "Python 3"
    },
    "language_info": {
      "name": "python"
    }
  },
  "cells": [
    {
      "cell_type": "markdown",
      "metadata": {
        "id": "view-in-github",
        "colab_type": "text"
      },
      "source": [
        "<a href=\"https://colab.research.google.com/github/josephkisimba/Networking/blob/main/Implement%20LP%20using%20Pulp.ipynb\" target=\"_parent\"><img src=\"https://colab.research.google.com/assets/colab-badge.svg\" alt=\"Open In Colab\"/></a>"
      ]
    },
    {
      "cell_type": "code",
      "source": [
        "pip install pulp\n"
      ],
      "metadata": {
        "colab": {
          "base_uri": "https://localhost:8080/"
        },
        "id": "BTM-CZey8r5e",
        "outputId": "a5b07bbc-54fe-45af-8356-1d48045f223b"
      },
      "execution_count": null,
      "outputs": [
        {
          "output_type": "stream",
          "name": "stdout",
          "text": [
            "Collecting pulp\n",
            "  Downloading PuLP-2.7.0-py3-none-any.whl (14.3 MB)\n",
            "\u001b[2K     \u001b[90m━━━━━━━━━━━━━━━━━━━━━━━━━━━━━━━━━━━━━━━━\u001b[0m \u001b[32m14.3/14.3 MB\u001b[0m \u001b[31m81.0 MB/s\u001b[0m eta \u001b[36m0:00:00\u001b[0m\n",
            "\u001b[?25hInstalling collected packages: pulp\n",
            "Successfully installed pulp-2.7.0\n"
          ]
        }
      ]
    },
    {
      "cell_type": "code",
      "execution_count": null,
      "metadata": {
        "id": "Rzp7EP4F8JqX"
      },
      "outputs": [],
      "source": [
        "# import the library pulp as p\n",
        "import pulp as p"
      ]
    },
    {
      "cell_type": "code",
      "source": [
        "# Create a LP Minimization problem\n",
        "Lp_prob = p.LpProblem('Problem', p.LpMinimize)\n",
        "\n",
        "# Create problem Variables\n",
        "x = p.LpVariable(\"x\", lowBound = 0)   # Create a variable x >= 0\n",
        "y = p.LpVariable(\"y\", lowBound = 0)   # Create a variable y >= 0\n",
        "\n",
        "# Objective Function\n",
        "Lp_prob += 3 * x + 5 * y\n",
        "\n",
        "# Constraints:\n",
        "Lp_prob += 2 * x + 3 * y >= 12\n",
        "Lp_prob += -x + y <= 3\n",
        "Lp_prob += x >= 4\n",
        "Lp_prob += y <= 3"
      ],
      "metadata": {
        "id": "6Alv-YdP8Mgw"
      },
      "execution_count": null,
      "outputs": []
    },
    {
      "cell_type": "code",
      "source": [
        "# Display the problem\n",
        "print(Lp_prob)\n",
        "\n",
        "print(\"Status\")\n",
        "status = Lp_prob.solve()   # Solver\n",
        "print(p.LpStatus[status])   # The solution status\n",
        "\n",
        "# Printing the final solution\n",
        "print(\"\\nFinal Solution (x, y, LP)\")\n",
        "print(p.value(x), p.value(y), p.value(Lp_prob.objective))"
      ],
      "metadata": {
        "id": "l2UJtEuA8Vs4",
        "outputId": "dc385aa4-bc8b-41b2-a650-ae03f6bc05f3",
        "colab": {
          "base_uri": "https://localhost:8080/"
        }
      },
      "execution_count": null,
      "outputs": [
        {
          "output_type": "stream",
          "name": "stdout",
          "text": [
            "Problem:\n",
            "MINIMIZE\n",
            "3*x + 5*y + 0\n",
            "SUBJECT TO\n",
            "_C1: 2 x + 3 y >= 12\n",
            "\n",
            "_C2: - x + y <= 3\n",
            "\n",
            "_C3: x >= 4\n",
            "\n",
            "_C4: y <= 3\n",
            "\n",
            "VARIABLES\n",
            "x Continuous\n",
            "y Continuous\n",
            "\n",
            "Status\n",
            "Optimal\n",
            "\n",
            "Final Solution (x, y, LP)\n",
            "6.0 0.0 18.0\n"
          ]
        }
      ]
    }
  ]
}